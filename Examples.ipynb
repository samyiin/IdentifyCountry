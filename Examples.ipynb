{
 "cells": [
  {
   "cell_type": "code",
   "execution_count": 2,
   "id": "7e482110-3f4a-4ca7-a452-83ac1e0cc51b",
   "metadata": {},
   "outputs": [],
   "source": [
    "import os\n",
    "import random\n",
    "import pandas as pd\n",
    "import json\n",
    "\n",
    "# Mount to google drive\n",
    "# from google.colab import drive\n",
    "# drive.mount('/content/drive')\n",
    "\n",
    "# Change it to your google drive path where this notebook located.\n",
    "drive_path = '/Users/samyiin/Projects/ZipfLawAnalysis/Playground'\n",
    "os.chdir(drive_path)"
   ]
  },
  {
   "cell_type": "markdown",
   "id": "84fa70fd-13f4-4566-b203-531eef278ee3",
   "metadata": {},
   "source": [
    "## Geopy Example"
   ]
  },
  {
   "cell_type": "code",
   "execution_count": 3,
   "id": "6c1ab447-3a71-4203-a72d-6c04a03af2cf",
   "metadata": {},
   "outputs": [
    {
     "data": {
      "text/plain": [
       "'China'"
      ]
     },
     "execution_count": 3,
     "metadata": {},
     "output_type": "execute_result"
    }
   ],
   "source": [
    "from GeopyAPI import map_location_to_country\n",
    "\n",
    "address_string = 'Shanghai'\n",
    "map_location_to_country(address_string)"
   ]
  },
  {
   "cell_type": "code",
   "execution_count": 5,
   "id": "a05b8411-d604-4ba3-8a13-7886c1d322b9",
   "metadata": {},
   "outputs": [
    {
     "data": {
      "text/plain": [
       "'AMBIGUOUS'"
      ]
     },
     "execution_count": 5,
     "metadata": {},
     "output_type": "execute_result"
    }
   ],
   "source": [
    "address_string = 'London'\n",
    "map_location_to_country(address_string)"
   ]
  },
  {
   "cell_type": "code",
   "execution_count": 10,
   "id": "616a4bc5-5813-40a4-93dc-3d1bdaed420a",
   "metadata": {},
   "outputs": [
    {
     "data": {
      "text/plain": [
       "'AMBIGUOUS'"
      ]
     },
     "execution_count": 10,
     "metadata": {},
     "output_type": "execute_result"
    }
   ],
   "source": [
    "address_string = 'Hell'\n",
    "map_location_to_country(address_string)"
   ]
  },
  {
   "cell_type": "markdown",
   "id": "6a8ecae7-74be-47ce-a704-75d50b0594a6",
   "metadata": {},
   "source": [
    "## LLM Example"
   ]
  },
  {
   "cell_type": "code",
   "execution_count": 7,
   "id": "9e2111ed-c992-4c81-b19a-d3f7a063282f",
   "metadata": {},
   "outputs": [
    {
     "data": {
      "text/plain": [
       "['China', 'United States of America']"
      ]
     },
     "execution_count": 7,
     "metadata": {},
     "output_type": "execute_result"
    }
   ],
   "source": [
    "from LLMDecodeLocation import llm_map_location_to_country\n",
    "apikey = \"<Your_Openai_Api_key_here>\"\n",
    "address_string = 'Shanghai -> New York'\n",
    "llm_map_location_to_country(address_string, opanai_apikey=apikey)"
   ]
  },
  {
   "cell_type": "code",
   "execution_count": 8,
   "id": "7f949243-1289-4a5f-a8c8-6034a547b58c",
   "metadata": {},
   "outputs": [
    {
     "data": {
      "text/plain": [
       "['United Kingdom']"
      ]
     },
     "execution_count": 8,
     "metadata": {},
     "output_type": "execute_result"
    }
   ],
   "source": [
    "address_string = 'London'\n",
    "llm_map_location_to_country(address_string, opanai_apikey=apikey)"
   ]
  },
  {
   "cell_type": "code",
   "execution_count": 9,
   "id": "b0d8470f-0b37-4af7-821d-b8513676f10d",
   "metadata": {},
   "outputs": [
    {
     "data": {
      "text/plain": [
       "['AMBIGUOUS']"
      ]
     },
     "execution_count": 9,
     "metadata": {},
     "output_type": "execute_result"
    }
   ],
   "source": [
    "address_string = 'Earth'\n",
    "llm_map_location_to_country(address_string, opanai_apikey=apikey)"
   ]
  },
  {
   "cell_type": "code",
   "execution_count": 11,
   "id": "ee09ceb7-43d4-475d-b1e1-62d88e7d270e",
   "metadata": {},
   "outputs": [
    {
     "data": {
      "text/plain": [
       "['NOT_AN_ADDRESS']"
      ]
     },
     "execution_count": 11,
     "metadata": {},
     "output_type": "execute_result"
    }
   ],
   "source": [
    "address_string = 'Hell'\n",
    "llm_map_location_to_country(address_string, opanai_apikey=apikey)"
   ]
  },
  {
   "cell_type": "markdown",
   "id": "1a8a737c-6072-454a-a626-fc50894c3051",
   "metadata": {},
   "source": [
    "## Hybrid Approach (Economic approach)"
   ]
  },
  {
   "cell_type": "code",
   "execution_count": null,
   "id": "c160a180-ccea-4166-bbc9-46830c156eb6",
   "metadata": {},
   "outputs": [],
   "source": [
    "address_string = 'Hell'\n",
    "apikey = \"<Your_Openai_Api_key_here>\"\n",
    "country_name_list =  [map_location_to_country(address_string)]\n",
    "if country_name_list[0] in [\"AMBIGUOUS\", \"NOT_AN_ADDRESS\"]:\n",
    "    country_name_list = llm_map_location_to_country(address_string, opanai_apikey=apikey)\n",
    "\n",
    "country_name_list"
   ]
  }
 ],
 "metadata": {
  "kernelspec": {
   "display_name": "Python 3 (ipykernel)",
   "language": "python",
   "name": "python3"
  },
  "language_info": {
   "codemirror_mode": {
    "name": "ipython",
    "version": 3
   },
   "file_extension": ".py",
   "mimetype": "text/x-python",
   "name": "python",
   "nbconvert_exporter": "python",
   "pygments_lexer": "ipython3",
   "version": "3.12.0"
  }
 },
 "nbformat": 4,
 "nbformat_minor": 5
}
